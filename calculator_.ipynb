{
  "nbformat": 4,
  "nbformat_minor": 0,
  "metadata": {
    "colab": {
      "provenance": [],
      "authorship_tag": "ABX9TyO+WBYmywy2zKDmstn4j1lx",
      "include_colab_link": true
    },
    "kernelspec": {
      "name": "python3",
      "display_name": "Python 3"
    },
    "language_info": {
      "name": "python"
    }
  },
  "cells": [
    {
      "cell_type": "markdown",
      "metadata": {
        "id": "view-in-github",
        "colab_type": "text"
      },
      "source": [
        "<a href=\"https://colab.research.google.com/github/Ahmadilyas2/scientific-calculator/blob/main/calculator_.ipynb\" target=\"_parent\"><img src=\"https://colab.research.google.com/assets/colab-badge.svg\" alt=\"Open In Colab\"/></a>"
      ]
    },
    {
      "cell_type": "code",
      "execution_count": null,
      "metadata": {
        "id": "DvGnb07N9MWg"
      },
      "outputs": [],
      "source": [
        "import streamlit as st\n",
        "import math\n",
        "\n",
        "# Functions for the calculator\n",
        "def add(x, y):\n",
        "    return x + y\n",
        "\n",
        "def subtract(x, y):\n",
        "    return x - y\n",
        "\n",
        "def multiply(x, y):\n",
        "    return x * y\n",
        "\n",
        "def divide(x, y):\n",
        "    if y == 0:\n",
        "        return \"Error: Division by zero!\"\n",
        "    return x / y\n",
        "\n",
        "def power(x, y):\n",
        "    return x ** y\n",
        "\n",
        "def square_root(x):\n",
        "    return math.sqrt(x)\n",
        "\n",
        "def logarithm(x, base=10):\n",
        "    return math.log(x, base)\n",
        "\n",
        "def sine(x):\n",
        "    return math.sin(math.radians(x))\n",
        "\n",
        "def cosine(x):\n",
        "    return math.cos(math.radians(x))\n",
        "\n",
        "def tangent(x):\n",
        "    return math.tan(math.radians(x))\n",
        "\n",
        "def factorial(x):\n",
        "    return math.factorial(x)\n",
        "\n",
        "# Streamlit app\n",
        "st.title(\"Scientific Calculator\")\n",
        "\n",
        "# Dropdown for operation selection\n",
        "operation = st.selectbox(\"Select operation\",\n",
        "                         [\"Add\", \"Subtract\", \"Multiply\", \"Divide\", \"Power\",\n",
        "                          \"Square Root\", \"Logarithm\", \"Sine\", \"Cosine\",\n",
        "                          \"Tangent\", \"Factorial\"])\n",
        "\n",
        "# Inputs for numbers\n",
        "if operation in [\"Add\", \"Subtract\", \"Multiply\", \"Divide\", \"Power\"]:\n",
        "    num1 = st.number_input(\"Enter the first number\", step=0.01, format=\"%.2f\")\n",
        "    num2 = st.number_input(\"Enter the second number\", step=0.01, format=\"%.2f\")\n",
        "elif operation in [\"Square Root\", \"Logarithm\", \"Sine\", \"Cosine\", \"Tangent\", \"Factorial\"]:\n",
        "    num1 = st.number_input(\"Enter the number\", step=0.01, format=\"%.2f\")\n",
        "\n",
        "# Button to perform calculation\n",
        "if st.button(\"Calculate\"):\n",
        "    if operation == \"Add\":\n",
        "        st.write(f\"Result: {add(num1, num2)}\")\n",
        "    elif operation == \"Subtract\":\n",
        "        st.write(f\"Result: {subtract(num1, num2)}\")\n",
        "    elif operation == \"Multiply\":\n",
        "        st.write(f\"Result: {multiply(num1, num2)}\")\n",
        "    elif operation == \"Divide\":\n",
        "        result = divide(num1, num2)\n",
        "        st.write(f\"Result: {result}\")\n",
        "    elif operation == \"Power\":\n",
        "        st.write(f\"Result: {power(num1, num2)}\")\n",
        "    elif operation == \"Square Root\":\n",
        "        st.write(f\"Result: {square_root(num1)}\")\n",
        "    elif operation == \"Logarithm\":\n",
        "        base = st.number_input(\"Enter the base (default is 10)\", value=10)\n",
        "        st.write(f\"Result: {logarithm(num1, base)}\")\n",
        "    elif operation == \"Sine\":\n",
        "        st.write(f\"Result: {sine(num1)}\")\n",
        "    elif operation == \"Cosine\":\n",
        "        st.write(f\"Result: {cosine(num1)}\")\n",
        "    elif operation == \"Tangent\":\n",
        "        st.write(f\"Result: {tangent(num1)}\")\n",
        "    elif operation == \"Factorial\":\n",
        "        st.write(f\"Result: {factorial(int(num1))}\")\n"
      ]
    }
  ]
}