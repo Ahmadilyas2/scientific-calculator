{
  "nbformat": 4,
  "nbformat_minor": 0,
  "metadata": {
    "colab": {
      "provenance": [],
      "authorship_tag": "ABX9TyPGBLz4iS6Lgp+T0kvGPqDN",
      "include_colab_link": true
    },
    "kernelspec": {
      "name": "python3",
      "display_name": "Python 3"
    },
    "language_info": {
      "name": "python"
    }
  },
  "cells": [
    {
      "cell_type": "markdown",
      "metadata": {
        "id": "view-in-github",
        "colab_type": "text"
      },
      "source": [
        "<a href=\"https://colab.research.google.com/github/Ahmadilyas2/scientific-calculator/blob/main/calculator_.ipynb\" target=\"_parent\"><img src=\"https://colab.research.google.com/assets/colab-badge.svg\" alt=\"Open In Colab\"/></a>"
      ]
    },
    {
      "cell_type": "code",
      "execution_count": null,
      "metadata": {
        "id": "DvGnb07N9MWg"
      },
      "outputs": [],
      "source": [
        "import math\n",
        "\n",
        "def add(x, y):\n",
        "    return x + y\n",
        "\n",
        "def subtract(x, y):\n",
        "    return x - y\n",
        "\n",
        "def multiply(x, y):\n",
        "    return x * y\n",
        "\n",
        "def divide(x, y):\n",
        "    if y == 0:\n",
        "        return \"Error: Division by zero!\"\n",
        "    return x / y\n",
        "\n",
        "def power(x, y):\n",
        "    return x ** y\n",
        "\n",
        "def square_root(x):\n",
        "    return math.sqrt(x)\n",
        "\n",
        "def logarithm(x, base=10):\n",
        "    return math.log(x, base)\n",
        "\n",
        "def sine(x):\n",
        "    return math.sin(math.radians(x))\n",
        "\n",
        "def cosine(x):\n",
        "    return math.cos(math.radians(x))\n",
        "\n",
        "def tangent(x):\n",
        "    return math.tan(math.radians(x))\n",
        "\n",
        "def factorial(x):\n",
        "    return math.factorial(x)\n",
        "\n",
        "def calculator():\n",
        "    print(\"Scientific Calculator\")\n",
        "    print(\"Select operation:\")\n",
        "    print(\"1. Add\")\n",
        "    print(\"2. Subtract\")\n",
        "    print(\"3. Multiply\")\n",
        "    print(\"4. Divide\")\n",
        "    print(\"5. Power\")\n",
        "    print(\"6. Square Root\")\n",
        "    print(\"7. Logarithm\")\n",
        "    print(\"8. Sine\")\n",
        "    print(\"9. Cosine\")\n",
        "    print(\"10. Tangent\")\n",
        "    print(\"11. Factorial\")\n",
        "\n",
        "    while True:\n",
        "        choice = input(\"Enter choice (1-11): \")\n",
        "\n",
        "        if choice in ['1', '2', '3', '4', '5']:\n",
        "            num1 = float(input(\"Enter first number: \"))\n",
        "            num2 = float(input(\"Enter second number: \"))\n",
        "\n",
        "            if choice == '1':\n",
        "                print(f\"Result: {add(num1, num2)}\")\n",
        "            elif choice == '2':\n",
        "                print(f\"Result: {subtract(num1, num2)}\")\n",
        "            elif choice == '3':\n",
        "                print(f\"Result: {multiply(num1, num2)}\")\n",
        "            elif choice == '4':\n",
        "                print(f\"Result: {divide(num1, num2)}\")\n",
        "            elif choice == '5':\n",
        "                print(f\"Result: {power(num1, num2)}\")\n",
        "\n",
        "        elif choice == '6':\n",
        "            num = float(input(\"Enter number: \"))\n",
        "\n"
      ]
    }
  ]
}